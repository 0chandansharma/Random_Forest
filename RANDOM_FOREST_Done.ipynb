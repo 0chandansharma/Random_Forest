{
 "cells": [
  {
   "cell_type": "code",
   "execution_count": 54,
   "metadata": {},
   "outputs": [],
   "source": [
    "\n",
    "import pandas as pd"
   ]
  },
  {
   "cell_type": "code",
   "execution_count": 55,
   "metadata": {},
   "outputs": [],
   "source": [
    "import numpy as np\n",
    "import matplotlib.pyplot as plt\n",
    "import seaborn as sns\n",
    "from sklearn import preprocessing"
   ]
  },
  {
   "cell_type": "code",
   "execution_count": 56,
   "metadata": {},
   "outputs": [],
   "source": [
    "%matplotlib inline\n",
    "\n",
    "# Common seed value to be used whenever required\n",
    "seed = 79\n",
    "np.random.seed(seed)"
   ]
  },
  {
   "cell_type": "code",
   "execution_count": 57,
   "metadata": {},
   "outputs": [],
   "source": [
    "a=[\"T1\", \"T2\", \"T3\", \"T4\", \"T5\", \"T6\", \"T7\", \"T8\", \"T9\",\"RH_1\", \"RH_2\", \"RH_3\", \"RH_4\", \"RH_5\", \"RH_6\", \"RH_7\", \"RH_8\", \"RH_9\",\"T_out\", \"Tdewpoint\", \"RH_out\", \"Press_mm_hg\", \"Windspeed\", \"Visibility\",\"Appliances\"]\n",
    "#load the datasets\n",
    "energy = pd.read_csv(r\"C:\\Users\\chandan sharma\\Desktop\\research\\-------------MOST\\final project\\Data-driven-prediction-models-of-energy-use-of-appliances-in-a-low-energy-house-master\\dataset\\training.csv\",usecols=a)"
   ]
  },
  {
   "cell_type": "code",
   "execution_count": 58,
   "metadata": {},
   "outputs": [
    {
     "data": {
      "text/html": [
       "<div>\n",
       "<style scoped>\n",
       "    .dataframe tbody tr th:only-of-type {\n",
       "        vertical-align: middle;\n",
       "    }\n",
       "\n",
       "    .dataframe tbody tr th {\n",
       "        vertical-align: top;\n",
       "    }\n",
       "\n",
       "    .dataframe thead th {\n",
       "        text-align: right;\n",
       "    }\n",
       "</style>\n",
       "<table border=\"1\" class=\"dataframe\">\n",
       "  <thead>\n",
       "    <tr style=\"text-align: right;\">\n",
       "      <th></th>\n",
       "      <th>Appliances</th>\n",
       "      <th>T1</th>\n",
       "      <th>RH_1</th>\n",
       "      <th>T2</th>\n",
       "      <th>RH_2</th>\n",
       "      <th>T3</th>\n",
       "      <th>RH_3</th>\n",
       "      <th>T4</th>\n",
       "      <th>RH_4</th>\n",
       "      <th>T5</th>\n",
       "      <th>...</th>\n",
       "      <th>T8</th>\n",
       "      <th>RH_8</th>\n",
       "      <th>T9</th>\n",
       "      <th>RH_9</th>\n",
       "      <th>T_out</th>\n",
       "      <th>Press_mm_hg</th>\n",
       "      <th>RH_out</th>\n",
       "      <th>Windspeed</th>\n",
       "      <th>Visibility</th>\n",
       "      <th>Tdewpoint</th>\n",
       "    </tr>\n",
       "  </thead>\n",
       "  <tbody>\n",
       "    <tr>\n",
       "      <th>0</th>\n",
       "      <td>60</td>\n",
       "      <td>19.89</td>\n",
       "      <td>47.596667</td>\n",
       "      <td>19.2</td>\n",
       "      <td>44.790000</td>\n",
       "      <td>19.79</td>\n",
       "      <td>44.730000</td>\n",
       "      <td>19.000000</td>\n",
       "      <td>45.566667</td>\n",
       "      <td>17.166667</td>\n",
       "      <td>...</td>\n",
       "      <td>18.2</td>\n",
       "      <td>48.900000</td>\n",
       "      <td>17.033333</td>\n",
       "      <td>45.53</td>\n",
       "      <td>6.600000</td>\n",
       "      <td>733.5</td>\n",
       "      <td>92.0</td>\n",
       "      <td>7.000000</td>\n",
       "      <td>63.000000</td>\n",
       "      <td>5.3</td>\n",
       "    </tr>\n",
       "    <tr>\n",
       "      <th>1</th>\n",
       "      <td>60</td>\n",
       "      <td>19.89</td>\n",
       "      <td>46.693333</td>\n",
       "      <td>19.2</td>\n",
       "      <td>44.722500</td>\n",
       "      <td>19.79</td>\n",
       "      <td>44.790000</td>\n",
       "      <td>19.000000</td>\n",
       "      <td>45.992500</td>\n",
       "      <td>17.166667</td>\n",
       "      <td>...</td>\n",
       "      <td>18.2</td>\n",
       "      <td>48.863333</td>\n",
       "      <td>17.066667</td>\n",
       "      <td>45.56</td>\n",
       "      <td>6.483333</td>\n",
       "      <td>733.6</td>\n",
       "      <td>92.0</td>\n",
       "      <td>6.666667</td>\n",
       "      <td>59.166667</td>\n",
       "      <td>5.2</td>\n",
       "    </tr>\n",
       "    <tr>\n",
       "      <th>2</th>\n",
       "      <td>50</td>\n",
       "      <td>19.89</td>\n",
       "      <td>46.300000</td>\n",
       "      <td>19.2</td>\n",
       "      <td>44.626667</td>\n",
       "      <td>19.79</td>\n",
       "      <td>44.933333</td>\n",
       "      <td>18.926667</td>\n",
       "      <td>45.890000</td>\n",
       "      <td>17.166667</td>\n",
       "      <td>...</td>\n",
       "      <td>18.2</td>\n",
       "      <td>48.730000</td>\n",
       "      <td>17.000000</td>\n",
       "      <td>45.50</td>\n",
       "      <td>6.366667</td>\n",
       "      <td>733.7</td>\n",
       "      <td>92.0</td>\n",
       "      <td>6.333333</td>\n",
       "      <td>55.333333</td>\n",
       "      <td>5.1</td>\n",
       "    </tr>\n",
       "    <tr>\n",
       "      <th>3</th>\n",
       "      <td>60</td>\n",
       "      <td>19.89</td>\n",
       "      <td>46.333333</td>\n",
       "      <td>19.2</td>\n",
       "      <td>44.530000</td>\n",
       "      <td>19.79</td>\n",
       "      <td>45.000000</td>\n",
       "      <td>18.890000</td>\n",
       "      <td>45.530000</td>\n",
       "      <td>17.200000</td>\n",
       "      <td>...</td>\n",
       "      <td>18.1</td>\n",
       "      <td>48.590000</td>\n",
       "      <td>17.000000</td>\n",
       "      <td>45.40</td>\n",
       "      <td>6.133333</td>\n",
       "      <td>733.9</td>\n",
       "      <td>92.0</td>\n",
       "      <td>5.666667</td>\n",
       "      <td>47.666667</td>\n",
       "      <td>4.9</td>\n",
       "    </tr>\n",
       "    <tr>\n",
       "      <th>4</th>\n",
       "      <td>50</td>\n",
       "      <td>19.89</td>\n",
       "      <td>46.026667</td>\n",
       "      <td>19.2</td>\n",
       "      <td>44.500000</td>\n",
       "      <td>19.79</td>\n",
       "      <td>44.933333</td>\n",
       "      <td>18.890000</td>\n",
       "      <td>45.730000</td>\n",
       "      <td>17.133333</td>\n",
       "      <td>...</td>\n",
       "      <td>18.1</td>\n",
       "      <td>48.590000</td>\n",
       "      <td>17.000000</td>\n",
       "      <td>45.29</td>\n",
       "      <td>6.016667</td>\n",
       "      <td>734.0</td>\n",
       "      <td>92.0</td>\n",
       "      <td>5.333333</td>\n",
       "      <td>43.833333</td>\n",
       "      <td>4.8</td>\n",
       "    </tr>\n",
       "  </tbody>\n",
       "</table>\n",
       "<p>5 rows × 25 columns</p>\n",
       "</div>"
      ],
      "text/plain": [
       "   Appliances     T1       RH_1    T2       RH_2     T3       RH_3         T4  \\\n",
       "0          60  19.89  47.596667  19.2  44.790000  19.79  44.730000  19.000000   \n",
       "1          60  19.89  46.693333  19.2  44.722500  19.79  44.790000  19.000000   \n",
       "2          50  19.89  46.300000  19.2  44.626667  19.79  44.933333  18.926667   \n",
       "3          60  19.89  46.333333  19.2  44.530000  19.79  45.000000  18.890000   \n",
       "4          50  19.89  46.026667  19.2  44.500000  19.79  44.933333  18.890000   \n",
       "\n",
       "        RH_4         T5    ...        T8       RH_8         T9   RH_9  \\\n",
       "0  45.566667  17.166667    ...      18.2  48.900000  17.033333  45.53   \n",
       "1  45.992500  17.166667    ...      18.2  48.863333  17.066667  45.56   \n",
       "2  45.890000  17.166667    ...      18.2  48.730000  17.000000  45.50   \n",
       "3  45.530000  17.200000    ...      18.1  48.590000  17.000000  45.40   \n",
       "4  45.730000  17.133333    ...      18.1  48.590000  17.000000  45.29   \n",
       "\n",
       "      T_out  Press_mm_hg  RH_out  Windspeed  Visibility  Tdewpoint  \n",
       "0  6.600000        733.5    92.0   7.000000   63.000000        5.3  \n",
       "1  6.483333        733.6    92.0   6.666667   59.166667        5.2  \n",
       "2  6.366667        733.7    92.0   6.333333   55.333333        5.1  \n",
       "3  6.133333        733.9    92.0   5.666667   47.666667        4.9  \n",
       "4  6.016667        734.0    92.0   5.333333   43.833333        4.8  \n",
       "\n",
       "[5 rows x 25 columns]"
      ]
     },
     "execution_count": 58,
     "metadata": {},
     "output_type": "execute_result"
    }
   ],
   "source": [
    "energy.head()"
   ]
  },
  {
   "cell_type": "code",
   "execution_count": 59,
   "metadata": {},
   "outputs": [
    {
     "name": "stdout",
     "output_type": "stream",
     "text": [
      "Correlation coefficient : 0.9443630975074825\n",
      "p-value : 0.0\n"
     ]
    }
   ],
   "source": [
    "# Import pearson relation method from SciPy\n",
    "from scipy.stats import pearsonr\n",
    "\n",
    "# Calculate the coefficient and p-value\n",
    "corr_coef, p_val = pearsonr(energy[\"T7\"], energy[\"T9\"])\n",
    "print(\"Correlation coefficient : {}\".format(corr_coef))\n",
    "print(\"p-value : {}\".format(p_val))"
   ]
  },
  {
   "cell_type": "code",
   "execution_count": 60,
   "metadata": {},
   "outputs": [],
   "source": [
    "#We can see that there is a very high degree of positive correlation between this two columns. \n",
    "#Also, p-value is less than 0.01. \n",
    "#Thereofore, we can reject the null hypothesis that this two columns don't affect each other."
   ]
  },
  {
   "cell_type": "code",
   "execution_count": 61,
   "metadata": {},
   "outputs": [],
   "source": [
    "# To generate all pairs for given columns\n",
    "from itertools import combinations\n"
   ]
  },
  {
   "cell_type": "code",
   "execution_count": 62,
   "metadata": {},
   "outputs": [
    {
     "name": "stdout",
     "output_type": "stream",
     "text": [
      "Column pair : T3, T9\n",
      "Correlation coefficient : 0.9012828822650197\n",
      "p-value : 0.0\n",
      "Column pair : T5, T9\n",
      "Correlation coefficient : 0.9118602394113892\n",
      "p-value : 0.0\n",
      "Column pair : T6, T_out\n",
      "Correlation coefficient : 0.9748504632027215\n",
      "p-value : 0.0\n",
      "Column pair : T7, T9\n",
      "Correlation coefficient : 0.9443630975074825\n",
      "p-value : 0.0\n"
     ]
    }
   ],
   "source": [
    "for pair in combinations(energy.columns, 2):\n",
    "    col_1, col_2 = pair\n",
    "    # Calculate the coefficient and p-value\n",
    "    corr_coef, p_val = pearsonr(energy[col_1], energy[col_2])\n",
    "    # Check for high correlation\n",
    "    if corr_coef > 0.9 or corr_coef < -0.9:\n",
    "        # Print details for pairs with high correlation\n",
    "        print(\"Column pair : {}, {}\".format(*pair))\n",
    "        print(\"Correlation coefficient : {}\".format(corr_coef))\n",
    "        print(\"p-value : {}\".format(p_val))"
   ]
  },
  {
   "cell_type": "code",
   "execution_count": 63,
   "metadata": {},
   "outputs": [],
   "source": [
    "#Interestingly, 3 columns have a high degree of correlation with T9, \n",
    "#all of which have a p-value < 0.01. Therefore, T9 can be considered as redundant.\n",
    "\n",
    "#Also, a very high correlation exists between features T6 and T_out.\n",
    "#This shouldn't be surprising as T6 is reading from a temperature sensor kept outside the building \n",
    "#and T_out is temperature obtained from Weather station.\n",
    "\n",
    "#Let's plot T6 and T_out to get a detailed visualization."
   ]
  },
  {
   "cell_type": "code",
   "execution_count": 64,
   "metadata": {},
   "outputs": [
    {
     "data": {
      "text/plain": [
       "<matplotlib.collections.PathCollection at 0x275b9621160>"
      ]
     },
     "execution_count": 64,
     "metadata": {},
     "output_type": "execute_result"
    },
    {
     "data": {
      "image/png": "[encoded data removed]",
      "text/plain": [
       "<Figure size 432x288 with 1 Axes>"
      ]
     },
     "metadata": {
      "needs_background": "light"
     },
     "output_type": "display_data"
    }
   ],
   "source": [
    "plt.xlabel(\"T6\", fontsize='x-large')\n",
    "plt.ylabel(\"T_out\", fontsize='x-large')\n",
    "\n",
    "plt.xlim(int(energy.T6.min()) - 2, int(energy.T6.max()) + 2)\n",
    "plt.ylim(int(energy.T_out.min()) - 2, int(energy.T_out.max()) + 2)\n",
    "\n",
    "plt.scatter(energy[\"T6\"], energy[\"T_out\"])"
   ]
  },
  {
   "cell_type": "code",
   "execution_count": 65,
   "metadata": {},
   "outputs": [],
   "source": [
    "#It is evident from the plot as well that these two features are highly correlated.\n"
   ]
  },
  {
   "cell_type": "code",
   "execution_count": 66,
   "metadata": {},
   "outputs": [
    {
     "data": {
      "text/plain": [
       "'Benchmark Model¶\\nFor benchmark, I will use Linear regression, using all the features as input data and without scaling the dataset.\\nThis will give an idea about the improvements gained from:\\n\\nPerforming feature scaling.\\nPerforming feature selection.\\nPerforming cross validation.\\nUsing more complex Regression algorithms.\\nHyper-parameter tuning of the regressor.'"
      ]
     },
     "execution_count": 66,
     "metadata": {},
     "output_type": "execute_result"
    }
   ],
   "source": [
    "'''Benchmark Model¶\n",
    "For benchmark, I will use Linear regression, using all the features as input data and without scaling the dataset.\n",
    "This will give an idea about the improvements gained from:\n",
    "\n",
    "Performing feature scaling.\n",
    "Performing feature selection.\n",
    "Performing cross validation.\n",
    "Using more complex Regression algorithms.\n",
    "Hyper-parameter tuning of the regressor.'''"
   ]
  },
  {
   "cell_type": "code",
   "execution_count": 67,
   "metadata": {},
   "outputs": [],
   "source": [
    "from sklearn.linear_model import LinearRegression\n",
    "from time import time\n",
    "\n",
    "# Prepare the data\n",
    "X_train = energy.drop(\"Appliances\", axis=1)\n",
    "y_train = energy[\"Appliances\"]"
   ]
  },
  {
   "cell_type": "code",
   "execution_count": 68,
   "metadata": {},
   "outputs": [],
   "source": [
    "test = pd.read_csv(r\"C:\\Users\\chandan sharma\\Desktop\\research\\-------------MOST\\final project\\Data-driven-prediction-models-of-energy-use-of-appliances-in-a-low-energy-house-master\\dataset\\testing_validation.csv\",usecols=a)"
   ]
  },
  {
   "cell_type": "code",
   "execution_count": 50,
   "metadata": {
    "scrolled": true
   },
   "outputs": [],
   "source": [
    "# Separate the features and the target variable\n",
    "X_test = test.drop(\"Appliances\", axis=1)\n",
    "y_test = test[\"Appliances\"]\n"
   ]
  },
  {
   "cell_type": "code",
   "execution_count": 69,
   "metadata": {},
   "outputs": [],
   "source": [
    "#Import Random Forest Model\n",
    "from sklearn.ensemble import RandomForestClassifier\n",
    "\n"
   ]
  },
  {
   "cell_type": "code",
   "execution_count": 70,
   "metadata": {},
   "outputs": [],
   "source": [
    "#Create a Gaussian Classifier\n",
    "clf=RandomForestClassifier(n_estimators=100)\n",
    "\n"
   ]
  },
  {
   "cell_type": "code",
   "execution_count": 71,
   "metadata": {},
   "outputs": [
    {
     "data": {
      "text/plain": [
       "RandomForestClassifier(bootstrap=True, class_weight=None, criterion='gini',\n",
       "            max_depth=None, max_features='auto', max_leaf_nodes=None,\n",
       "            min_impurity_split=1e-07, min_samples_leaf=1,\n",
       "            min_samples_split=2, min_weight_fraction_leaf=0.0,\n",
       "            n_estimators=100, n_jobs=1, oob_score=False, random_state=None,\n",
       "            verbose=0, warm_start=False)"
      ]
     },
     "execution_count": 71,
     "metadata": {},
     "output_type": "execute_result"
    }
   ],
   "source": [
    "#Train the model using the training sets y_pred=clf.predict(X_test)\n",
    "clf.fit(X_train,y_train)\n",
    "\n"
   ]
  },
  {
   "cell_type": "code",
   "execution_count": 72,
   "metadata": {},
   "outputs": [],
   "source": [
    "y_pred=clf.predict(X_test)"
   ]
  },
  {
   "cell_type": "code",
   "execution_count": 74,
   "metadata": {},
   "outputs": [
    {
     "name": "stdout",
     "output_type": "stream",
     "text": [
      "Accuracy: 0.2801400700350175\n",
      "percentage error: 28.525327176630476\n",
      "Mean squared error: 5990.35\n",
      "R2 score: 0.52\n",
      "Mean absolute error:32.08\n",
      "MSE: 5990.345172586293\n",
      "RMSE: 77.39732018995421\n"
     ]
    }
   ],
   "source": [
    "from sklearn import metrics\n",
    "\n",
    "# Model Accuracy: how often is the classifier correct?\n",
    "print(\"Accuracy:\",metrics.accuracy_score(y_test, y_pred))\n",
    "print(\"percentage error:\",(np.mean(np.abs(y_test - y_pred) / y_test)*100))\n",
    "\n",
    "print(\"Mean squared error: %.2f\" % mean_squared_error(y_test, y_pred))\n",
    "\n",
    "print('R2 score: %.2f' % r2_score(y_test, y_pred))\n",
    "\n",
    "print(\"Mean absolute error:%.2f\" % mean_absolute_error(y_test, y_pred))\n",
    "\n",
    "meanSquaredError=mean_squared_error(y_test, y_pred)\n",
    "print(\"MSE:\", meanSquaredError)\n",
    "rootMeanSquaredError = sqrt(meanSquaredError)\n",
    "print(\"RMSE:\", rootMeanSquaredError)"
   ]
  }
 ],
 "metadata": {
  "kernelspec": {
   "display_name": "Python 3",
   "language": "python",
   "name": "python3"
  },
  "language_info": {
   "codemirror_mode": {
    "name": "ipython",
    "version": 3
   },
   "file_extension": ".py",
   "mimetype": "text/x-python",
   "name": "python",
   "nbconvert_exporter": "python",
   "pygments_lexer": "ipython3",
   "version": "3.7.3"
  }
 },
 "nbformat": 4,
 "nbformat_minor": 2
}
